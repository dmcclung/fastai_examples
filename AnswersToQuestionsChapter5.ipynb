{
  "nbformat": 4,
  "nbformat_minor": 0,
  "metadata": {
    "colab": {
      "provenance": [],
      "toc_visible": true,
      "authorship_tag": "ABX9TyNDjoAW0Pq2XT7tf21585t6",
      "include_colab_link": true
    },
    "kernelspec": {
      "name": "python3",
      "display_name": "Python 3"
    },
    "language_info": {
      "name": "python"
    }
  },
  "cells": [
    {
      "cell_type": "markdown",
      "metadata": {
        "id": "view-in-github",
        "colab_type": "text"
      },
      "source": [
        "<a href=\"https://colab.research.google.com/github/dmcclung/fastai_examples/blob/main/AnswersToQuestionsChapter5.ipynb\" target=\"_parent\"><img src=\"https://colab.research.google.com/assets/colab-badge.svg\" alt=\"Open In Colab\"/></a>"
      ]
    },
    {
      "cell_type": "markdown",
      "source": [
        "**What are the two ways in which data is most commonly provided, for most deep learning datasets?**\n",
        "\n",
        "Tables and individual files "
      ],
      "metadata": {
        "id": "0ltVENWSF172"
      }
    },
    {
      "cell_type": "markdown",
      "source": [
        "**Why do we first resize to a large size on the CPU, and then to a smaller size on the GPU?**\n",
        "\n",
        "Resizing to a larger size allows us to perform augmentations on the image before cropping to avoid artifacts in the image that we don't want the model to learn."
      ],
      "metadata": {
        "id": "-sO90bklFb3p"
      }
    },
    {
      "cell_type": "markdown",
      "source": [
        "**Look up the documentation for L and try using a few of the new methods that it adds.**"
      ],
      "metadata": {
        "id": "0V9KdxJ1HqO9"
      }
    },
    {
      "cell_type": "code",
      "source": [
        "!pip install -qq fastai"
      ],
      "metadata": {
        "id": "KfMRsXYLHt5I"
      },
      "execution_count": 1,
      "outputs": []
    },
    {
      "cell_type": "code",
      "source": [
        "from fastai.tabular.all import *\n",
        "\n",
        "path = untar_data(URLs.ADULT_SAMPLE)\n",
        "l = path.ls()\n",
        "l.unique(), l.copy(), l.val2idx()"
      ],
      "metadata": {
        "colab": {
          "base_uri": "https://localhost:8080/"
        },
        "id": "-cHYdi1RH3oZ",
        "outputId": "5d934fd3-a0e0-4847-8d05-0884e8b44443"
      },
      "execution_count": 18,
      "outputs": [
        {
          "output_type": "execute_result",
          "data": {
            "text/plain": [
              "((#3) [Path('/root/.fastai/data/adult_sample/models'),Path('/root/.fastai/data/adult_sample/adult.csv'),Path('/root/.fastai/data/adult_sample/export.pkl')],\n",
              " (#3) [Path('/root/.fastai/data/adult_sample/models'),Path('/root/.fastai/data/adult_sample/adult.csv'),Path('/root/.fastai/data/adult_sample/export.pkl')],\n",
              " {Path('/root/.fastai/data/adult_sample/models'): 0,\n",
              "  Path('/root/.fastai/data/adult_sample/adult.csv'): 1,\n",
              "  Path('/root/.fastai/data/adult_sample/export.pkl'): 2})"
            ]
          },
          "metadata": {},
          "execution_count": 18
        }
      ]
    },
    {
      "cell_type": "markdown",
      "source": [
        "**Look up the documentation for the Python pathlib module and try using a few methods of the Path class.**"
      ],
      "metadata": {
        "id": "2hZ58ePUKy8u"
      }
    },
    {
      "cell_type": "code",
      "source": [
        "path.absolute(), path.cwd(), path.home()"
      ],
      "metadata": {
        "colab": {
          "base_uri": "https://localhost:8080/"
        },
        "id": "TO6DdoegK1Fh",
        "outputId": "064784ab-e1ba-4b3a-8667-63ff9a73dbea"
      },
      "execution_count": 22,
      "outputs": [
        {
          "output_type": "execute_result",
          "data": {
            "text/plain": [
              "(Path('/root/.fastai/data/adult_sample'), Path('/content'), Path('/root'))"
            ]
          },
          "metadata": {},
          "execution_count": 22
        }
      ]
    },
    {
      "cell_type": "markdown",
      "source": [
        "**Give two examples of ways that image transformations can degrade the quality of the data.**\n",
        "\n",
        "The bear example has reflection padding artifacts and rotating an image by 45 degrees can produce emptiness in the image."
      ],
      "metadata": {
        "id": "WNvc4XqM9hzy"
      }
    },
    {
      "cell_type": "markdown",
      "source": [
        "**What method does fastai provide to view the data in a DataLoaders?**\n",
        "\n",
        "```\n",
        "show_batch\n",
        "```\n",
        "\n"
      ],
      "metadata": {
        "id": "LWxsZuF9-BXU"
      }
    },
    {
      "cell_type": "markdown",
      "source": [
        "What method does fastai provide to help you debug a DataBlock?\n",
        "```\n",
        "summary\n",
        "```"
      ],
      "metadata": {
        "id": "W4wvCOqA-4l0"
      }
    },
    {
      "cell_type": "markdown",
      "source": [
        "**Should you hold off on training a model until you have thoroughly cleaned your data?**\n",
        "\n",
        "No, training even a small batch as soon as possible will reveal valuable information about the problem."
      ],
      "metadata": {
        "id": "-yXotEZh_MAC"
      }
    },
    {
      "cell_type": "markdown",
      "source": [
        "**What are the two pieces that are combined into cross-entropy loss in PyTorch?**\n",
        "\n",
        "Softmax and log likelihood"
      ],
      "metadata": {
        "id": "lhDCyN_K_aBD"
      }
    },
    {
      "cell_type": "markdown",
      "source": [
        "**What are the two properties of activations that softmax ensures? Why is this important?**\n",
        "\n"
      ],
      "metadata": {
        "id": "81Eh5cyD_mXN"
      }
    }
  ]
}